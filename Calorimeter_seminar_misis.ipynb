{
  "nbformat": 4,
  "nbformat_minor": 0,
  "metadata": {
    "colab": {
      "name": "Calorimeter_seminar_misis",
      "version": "0.3.2",
      "provenance": [],
      "collapsed_sections": []
    },
    "kernelspec": {
      "name": "python3",
      "display_name": "Python 3"
    },
    "accelerator": "GPU"
  },
  "cells": [
    {
      "metadata": {
        "id": "S0YKBfWdd8hV",
        "colab_type": "text"
      },
      "cell_type": "markdown",
      "source": [
        "<a href=\"https://colab.research.google.com/github/shir994/misis_seminars/blob/master/Calorimeter_seminar_misis.ipynb\" target=\"_parent\"><img src=\"https://colab.research.google.com/assets/colab-badge.svg\" alt=\"Open In Colab\"/></a>"
      ]
    },
    {
      "metadata": {
        "id": "50sGCTT1Kgny",
        "colab_type": "code",
        "colab": {}
      },
      "cell_type": "code",
      "source": [
        "# let's download today dataset\n",
        "!wget -O MC https://cernbox.cern.ch/index.php/s/R2RtKIGwk0j4s16\n",
        "!wget -O TT https://cernbox.cern.ch/index.php/s/wENqqgAIhTvKO0o\n",
        "\n",
        "def convert_to_direct_link(fname):\n",
        "  def get_direct_link(fname):\n",
        "    with open(fname) as f:\n",
        "      lines = f.readlines()\n",
        "      for l in lines:\n",
        "        if 'downloadURL' in l:\n",
        "          parts = l.split()\n",
        "          for p in parts:\n",
        "            if p[:5] == 'value':\n",
        "              return p.split('\"')[-2]\n",
        "      raise KeyError(\"downloadURL not found\")\n",
        "  \n",
        "  link = get_direct_link(fname)\n",
        "  with open(fname, 'w') as f:\n",
        "    f.write(link)\n",
        "\n",
        "convert_to_direct_link('MC')\n",
        "convert_to_direct_link('TT')\n",
        "!wget -O MC_misis.csv `cat MC`\n",
        "!wget -O TT_misis.hdf `cat TT`"
      ],
      "execution_count": 0,
      "outputs": []
    },
    {
      "metadata": {
        "id": "uX_yA3aDKU3-",
        "colab_type": "code",
        "colab": {}
      },
      "cell_type": "code",
      "source": [
        "from mpl_toolkits.mplot3d import Axes3D\n",
        "from mpl_toolkits.mplot3d.art3d import Line3DCollection\n",
        "from matplotlib import pylab as plt \n",
        "#import root_numpy\n",
        "import pandas as pd\n",
        "import numpy\n",
        "#import seaborn\n",
        "%matplotlib inline\n",
        "#%matplotlib notebook\n",
        "import numpy as np\n",
        "import os"
      ],
      "execution_count": 0,
      "outputs": []
    },
    {
      "metadata": {
        "id": "y5seEOQqKU4P",
        "colab_type": "code",
        "colab": {}
      },
      "cell_type": "code",
      "source": [
        "import pickle"
      ],
      "execution_count": 0,
      "outputs": []
    },
    {
      "metadata": {
        "id": "frkJ_1KtMrtT",
        "colab_type": "code",
        "colab": {}
      },
      "cell_type": "code",
      "source": [
        "plt.rcParams['axes.facecolor'] = 'white'\n",
        "plt.grid(c='black')"
      ],
      "execution_count": 0,
      "outputs": []
    },
    {
      "metadata": {
        "id": "8zp9C3OUKU4i",
        "colab_type": "code",
        "colab": {}
      },
      "cell_type": "code",
      "source": [
        "num_showers = 30000"
      ],
      "execution_count": 0,
      "outputs": []
    },
    {
      "metadata": {
        "id": "1QT5PpfxKU4r",
        "colab_type": "code",
        "colab": {}
      },
      "cell_type": "code",
      "source": [
        "MC_df = pd.read_csv(\"MC_misis.csv\")"
      ],
      "execution_count": 0,
      "outputs": []
    },
    {
      "metadata": {
        "id": "ETtfsRdcKU4y",
        "colab_type": "code",
        "colab": {}
      },
      "cell_type": "code",
      "source": [
        "TT_df = pd.read_hdf('TT_misis.hdf', 'df')\n",
        "TT_df.shape"
      ],
      "execution_count": 0,
      "outputs": []
    },
    {
      "metadata": {
        "id": "Co9ecaTUKU5C",
        "colab_type": "text"
      },
      "cell_type": "markdown",
      "source": [
        "# Plot shower view"
      ]
    },
    {
      "metadata": {
        "id": "b9yCwzogKU5E",
        "colab_type": "code",
        "colab": {}
      },
      "cell_type": "code",
      "source": [
        "Z_LEFT = -3256.6700\n",
        "END_OF_BRICK = Z_LEFT + 0.56 * 30\n",
        "#Z_RIGHT = -3245.6700\n",
        "X_HALF_SIZE = 6.45\n",
        "Y_HALF_SIZE = 5.25\n",
        "\n",
        "def create_plotting_df(df, dZ):\n",
        "    # mind the order!\n",
        "    d0 = pd.DataFrame([\n",
        "                df['Z'],\n",
        "                df['X'],\n",
        "                df['Y']],\n",
        "                index=['z', 'x', 'y']).T\n",
        "    numtracks = d0.shape[0]\n",
        "    dd = pd.DataFrame([np.ones(len(df['SX'])), df['SX'], df['SY']], index=['z', 'x', 'y']).T\n",
        "    dd *= dZ\n",
        "    d1 = d0 + dd\n",
        "    return d0, d1\n",
        "\n",
        "def plot_mc(emulsion, id=0):\n",
        "    dZ = 0.0315\n",
        "    df = emulsion.iloc[id]\n",
        "    d0, d1 = create_plotting_df(df, dZ)\n",
        "    C = plt.cm.Reds(0.5)\n",
        "    lc_1 = Line3DCollection(list(zip(d0.values, d1.values)), colors=C, alpha=0.9, lw=2)\n",
        "    \n",
        "    fig = plt.figure(figsize=(12,8))\n",
        "    ax = fig.gca(projection='3d')\n",
        "    ax.view_init(azim=-90, elev=0)\n",
        "    ax.add_collection3d(lc_1)\n",
        "    \n",
        "    # mind the order!\n",
        "    ax.set_xlabel(\"z\")\n",
        "    ax.set_ylabel(\"x\")\n",
        "    ax.set_zlabel(\"y\")  \n",
        "    ax.set_xlim(d0['z'].min(), d0['z'].max())\n",
        "    ax.set_ylim(d0['x'].min(), d0['x'].max())\n",
        "    ax.set_zlim(d0['y'].min(), d0['y'].max())\n",
        "    \n",
        "    ax.set_xlim(Z_LEFT, END_OF_BRICK)\n",
        "    ax.set_ylim(-X_HALF_SIZE, X_HALF_SIZE)\n",
        "    ax.set_zlim(-Y_HALF_SIZE, Y_HALF_SIZE)\n",
        "    ax.view_init(elev=30., azim=-45)\n",
        "    #ax.set_xlim(-2870, -2868)\n",
        "    #ax.set_zlim(-23, -22)"
      ],
      "execution_count": 0,
      "outputs": []
    },
    {
      "metadata": {
        "id": "J5G66RiRKU5M",
        "colab_type": "code",
        "colab": {}
      },
      "cell_type": "code",
      "source": [
        "index = 10\n",
        "print(\"E:\",MC_df.iloc[index]['E'], \"GeV\")\n",
        "plot_mc(TT_df, index)"
      ],
      "execution_count": 0,
      "outputs": []
    },
    {
      "metadata": {
        "id": "co6Cl2Z4KU5T",
        "colab_type": "text"
      },
      "cell_type": "markdown",
      "source": [
        "# Shower profiles"
      ]
    },
    {
      "metadata": {
        "id": "d26PKKyWKU5X",
        "colab_type": "text"
      },
      "cell_type": "markdown",
      "source": [
        "In this task, we want to look at the shower profiles:\n",
        "- How does shower profile change with the Z coordinate?\n",
        "- Plot histogram of shower track X and Y coodrinate \n",
        "    as a function of X0 (for all shower, to get betters hists) \n",
        "- What do you expect to see?"
      ]
    },
    {
      "metadata": {
        "id": "QprTDGuCKU5Z",
        "colab_type": "code",
        "colab": {}
      },
      "cell_type": "code",
      "source": [
        "step = 0.1315\n",
        "N_FILMS = 169\n",
        "# emulsion_end_coords - coordinates of emulsion films\n",
        "# You need them to map each track Z coordinate to the index of emulsion film \n",
        "emulsion_end_coords = [-3256.5885 + i * step for i in range(N_FILMS)]"
      ],
      "execution_count": 0,
      "outputs": []
    },
    {
      "metadata": {
        "id": "sXz5e0iZKU5e",
        "colab_type": "code",
        "colab": {}
      },
      "cell_type": "code",
      "source": [
        "from bisect import bisect_left"
      ],
      "execution_count": 0,
      "outputs": []
    },
    {
      "metadata": {
        "id": "DiEIkWTzKU5j",
        "colab_type": "code",
        "colab": {}
      },
      "cell_type": "code",
      "source": [
        "%%time\n",
        "\n",
        "## plate index 169 == CES tracks, not emulsion\n",
        "\n",
        "# DF where we will accumulate all XYZ for all showers\n",
        "tt_df_ravel = None\n",
        "for coord in [\"X\", \"Y\", 'Z']:\n",
        "    ravel = []\n",
        "    TT_df[coord].apply(<YOUR CODE>)\n",
        "    if tt_df_ravel is None:\n",
        "        tt_df_ravel = <YOUR CODE>\n",
        "    else:\n",
        "        tt_df_ravel[coord] = <YOUR CODE>\n",
        "\n",
        "tt_df_ravel['plate_index'] = <YOUR CODE>     \n",
        "\n",
        "\n",
        "indeces = []\n",
        "for i in range(len(TT_df)):\n",
        "    indeces.extend(i * np.ones(len(TT_df.iloc[i].X)))\n",
        "indeces =  np.array(indeces).astype(int)\n",
        "tt_df_ravel['event_id'] = indeces"
      ],
      "execution_count": 0,
      "outputs": []
    },
    {
      "metadata": {
        "id": "qs2eghKUKU5o",
        "colab_type": "code",
        "colab": {}
      },
      "cell_type": "code",
      "source": [
        "tt_df_ravel.head()"
      ],
      "execution_count": 0,
      "outputs": []
    },
    {
      "metadata": {
        "id": "fuL-OHB2KU6N",
        "colab_type": "code",
        "colab": {}
      },
      "cell_type": "code",
      "source": [
        "rad_length_step = 30\n",
        "\n",
        "# Radiation lengh in number of films\n",
        "rad_length_in_n_plates = (N_FILMS - 1) / rad_length_step"
      ],
      "execution_count": 0,
      "outputs": []
    },
    {
      "metadata": {
        "id": "U5AsGx-vKU6S",
        "colab_type": "code",
        "colab": {}
      },
      "cell_type": "code",
      "source": [
        "def plot_distribution(coord, start_point, end_point):\n",
        "    \"\"\"coord :str: - axis of selection, ie X or Y,\n",
        "        start_point - first X0 to plot,\n",
        "        end_point - last X0 to plot\n",
        "    \"\"\"\n",
        "    selection_indces = [int(rad_length_in_n_plates * i) for i in range(start_point, end_point)]\n",
        "    labels = [str(i) + \"X0\" for i in range(start_point, end_point)]\n",
        "    # Plot the histogram of shower profile here, using variables above\n",
        "    for label, p_index in zip(labels, selection_indeces):\n",
        "      cut_df = tt_df_ravel[<YOUR CODE>]\n",
        "      plt.hist(<YOUR CODE>)      \n",
        "\n",
        "    plt.legend()\n",
        "    plt.xlabel(coord + \", cm\", fontsize=23)"
      ],
      "execution_count": 0,
      "outputs": []
    },
    {
      "metadata": {
        "id": "K7axu27_KU6n",
        "colab_type": "code",
        "colab": {}
      },
      "cell_type": "code",
      "source": [
        "plt.figure(figsize=(21,12))\n",
        "for index, (start, end) in enumerate(zip([1,11,21], [11,21,31])):\n",
        "    plt.subplot(2,3,index+1)\n",
        "    plot_distribution('X', start, end)\n",
        "    plt.subplot(2,3,index+4)\n",
        "    plot_distribution('Y', start, end)"
      ],
      "execution_count": 0,
      "outputs": []
    },
    {
      "metadata": {
        "collapsed": true,
        "id": "fzB-k9A9KU6u",
        "colab_type": "text"
      },
      "cell_type": "markdown",
      "source": [
        "# Plot shower N-vs-X0"
      ]
    },
    {
      "metadata": {
        "id": "TWXjS3B2KU6w",
        "colab_type": "text"
      },
      "cell_type": "markdown",
      "source": [
        "In this task, we want to see the dependance of number of tracks in shower as a funciton of X0:\n",
        "- Plot histogram of number of tracks vs X0 (every 1 X0). Plot 1 standard deviation in each point. \n",
        "- What do you expect to see?\n",
        "- How do you thing the shape will change for different energies?"
      ]
    },
    {
      "metadata": {
        "id": "sSqWkLCiKU6x",
        "colab_type": "code",
        "colab": {}
      },
      "cell_type": "code",
      "source": [
        "# Get total number of tracks in shower\n",
        "total_number_of_tracks_in_shower = <YOUR CODE>\n",
        "\n",
        "mean_n_hits_and_std = []\n",
        "# Save mean number of tracks and std in the list above\n",
        "for p_index in range(1, N_FILMS):\n",
        "    cut_df = tt_df_ravel[<YOUR CODE>]\n",
        "    n_hits = <YOUR CODE>\n",
        "    mean_n_hits_and_std.append([n_hits.mean(), n_hits.std()])\n",
        "\n",
        "mean_n_hits_and_std = np.array(mean_n_hits_and_std)    "
      ],
      "execution_count": 0,
      "outputs": []
    },
    {
      "metadata": {
        "id": "Vuq3LCIfKU6-",
        "colab_type": "code",
        "colab": {}
      },
      "cell_type": "code",
      "source": [
        "import matplotlib.patches as mpatches"
      ],
      "execution_count": 0,
      "outputs": []
    },
    {
      "metadata": {
        "id": "rp8HPVoRKU7C",
        "colab_type": "code",
        "colab": {}
      },
      "cell_type": "code",
      "source": [
        "x_ticks = [int(rad_length_in_n_plates * i) for i in range(1, rad_length_step + 1)]\n",
        "labels = [str(i) for i in range(1, rad_length_step + 1)]"
      ],
      "execution_count": 0,
      "outputs": []
    },
    {
      "metadata": {
        "id": "7gIExss5KU7F",
        "colab_type": "code",
        "colab": {}
      },
      "cell_type": "code",
      "source": [
        "plt.figure(figsize=(16,8))\n",
        "# Plot the distribution\n",
        "<YOUR CODE>\n",
        "\n",
        "plt.grid(color='grey')\n",
        "plt.ylabel(\"Number of tracks, fraction\", fontsize=23)\n",
        "plt.xlabel(\"Distance from the origin, X0\", fontsize=23)\n",
        "plt.xticks(x_ticks, labels);\n",
        "red_patch = mpatches.Patch(color='green', label='$1 \\sigma$ deviation', linewidth=10)\n",
        "plt.legend(handles=[red_patch], fontsize = 'xx-large')\n",
        "\n"
      ],
      "execution_count": 0,
      "outputs": []
    },
    {
      "metadata": {
        "collapsed": true,
        "id": "_eml8JEHKU7P",
        "colab_type": "text"
      },
      "cell_type": "markdown",
      "source": [
        "What do we expect from the simple theory?"
      ]
    },
    {
      "metadata": {
        "id": "Rh6yLwB4KU7T",
        "colab_type": "text"
      },
      "cell_type": "markdown",
      "source": [
        "# Calibration"
      ]
    },
    {
      "metadata": {
        "id": "Mt6zfvt_KU7V",
        "colab_type": "text"
      },
      "cell_type": "markdown",
      "source": [
        "We know that for EM shower $E \\sim N$, where N - is the number of particles in a shower.\n",
        "Let see if this relationship holds in our case."
      ]
    },
    {
      "metadata": {
        "id": "F-cOAdajKU7X",
        "colab_type": "code",
        "colab": {}
      },
      "cell_type": "code",
      "source": [
        "# Plot scatter plot of N in shower vs E of initial electron\n"
      ],
      "execution_count": 0,
      "outputs": []
    },
    {
      "metadata": {
        "id": "MviDKhYsKU7Z",
        "colab_type": "code",
        "colab": {}
      },
      "cell_type": "code",
      "source": [
        "plt.figure(figsize=(16,8))\n",
        "plt.scatter(MC_df, total_number_of_tracks_in_shower)\n",
        "plt.grid(color='grey')\n",
        "plt.ylabel(\"Number of tracks\", fontsize=23)\n",
        "plt.xlabel(\"Energy, GeV\", fontsize=23)"
      ],
      "execution_count": 0,
      "outputs": []
    },
    {
      "metadata": {
        "id": "q8G9yc0UKU7e",
        "colab_type": "text"
      },
      "cell_type": "markdown",
      "source": [
        "So, we want to calibrate our \"detector\" to predict energy,  based on its observations.\n",
        "For this, we can simply split our data to train and test - on train we will fit our model, on test we will validate our result."
      ]
    },
    {
      "metadata": {
        "id": "DCHOeBSnKU7f",
        "colab_type": "code",
        "colab": {}
      },
      "cell_type": "code",
      "source": [
        "from sklearn.model_selection import train_test_split\n",
        "X_train, X_test, y_train, y_test = train_test_split(total_number_of_tracks_in_shower, MC_df.values, test_size=0.1,\n",
        "                                                   random_state=1543)\n",
        "from sklearn.linear_model import LinearRegression, RANSACRegressor"
      ],
      "execution_count": 0,
      "outputs": []
    },
    {
      "metadata": {
        "id": "Fy0lDT3mKU7j",
        "colab_type": "text"
      },
      "cell_type": "markdown",
      "source": [
        "Using imported regressors, fit them on traning data and then plot the above plot with overlayed regression on it.\n",
        "Sklearn already provides you with evrything you need. Basically, LinearRegression is fitting exactly\n",
        "$$\n",
        "E = a * N + b, \\\\\n",
        "$$\n",
        "where N - number of hits in shower.\n",
        "\n",
        "During fitting, it minimises $MSE: \\mathbb{E}[(E_{true} - E_{reco})^2$]\n",
        "\n",
        "But, as you can see, we have some outliers. Linear regression is proned to overfitting and thus outliers affect fitting a lot. Sometimes, its good to use methods, that are stable to outliers. here, I give an example of RANSAC regressor."
      ]
    },
    {
      "metadata": {
        "id": "J24jS51AKU7l",
        "colab_type": "code",
        "colab": {}
      },
      "cell_type": "code",
      "source": [
        "<YOUR CODE>"
      ],
      "execution_count": 0,
      "outputs": []
    },
    {
      "metadata": {
        "id": "8ez3PYjKKU7p",
        "colab_type": "code",
        "colab": {}
      },
      "cell_type": "code",
      "source": [
        "plt.figure(figsize=(16,8))\n",
        "plt.scatter(y_test, X_test, label='test data')\n",
        "\n",
        "# he we simply need to evalutae fitted relation E = a * N +b at N = 0 and 2000\n",
        "plt.plot([<YOUR CODE>, <YOUR CODE> * 2000], [0, 2000], linewidth=5, c='red', label='fit')\n",
        "plt.plot([<YOUR CODE>,\n",
        "          <YOUR CODE> * 2000], [0, 2000], linewidth=3, c='green', label='fit')\n",
        "\n",
        "plt.grid()\n",
        "plt.ylabel(\"Number of tracks\", fontsize=23)\n",
        "plt.xlabel(\"Energy, GeV\", fontsize=23)\n",
        "plt.xlim(4.9,6.1)\n",
        "plt.legend()"
      ],
      "execution_count": 0,
      "outputs": []
    },
    {
      "metadata": {
        "id": "ptXYCghdKU71",
        "colab_type": "text"
      },
      "cell_type": "markdown",
      "source": [
        "How can we measure performance of our fit?"
      ]
    },
    {
      "metadata": {
        "id": "htSFFQmDKU72",
        "colab_type": "code",
        "colab": {}
      },
      "cell_type": "code",
      "source": [
        "y_pred = lr.predict(X_test.reshape(-1,1))[:,0]"
      ],
      "execution_count": 0,
      "outputs": []
    },
    {
      "metadata": {
        "id": "QvbtWE3yKU74",
        "colab_type": "code",
        "colab": {}
      },
      "cell_type": "code",
      "source": [
        "from scipy.stats import binned_statistic"
      ],
      "execution_count": 0,
      "outputs": []
    },
    {
      "metadata": {
        "id": "gjSMroKYKU75",
        "colab_type": "text"
      },
      "cell_type": "markdown",
      "source": [
        "Of course, the one of the ways to measure the perforamnce is check Redisidual sum of squares (MSE error). \n",
        "Ideal estimator will be unbiased and have zero variance."
      ]
    },
    {
      "metadata": {
        "id": "D5ARJLmqKU76",
        "colab_type": "code",
        "colab": {}
      },
      "cell_type": "code",
      "source": [
        "bins_width = list(np.arange(5, 6, 0.1))\n",
        "val_bins, bins, _ = binned_statistic(y_test[:,0], y_pred, \"mean\", bins=bins_width)\n",
        "err_bins, bins, _ = binned_statistic(y_test[:,0], y_pred, \"std\", bins=bins_width)"
      ],
      "execution_count": 0,
      "outputs": []
    },
    {
      "metadata": {
        "id": "Zg_f1mOfKU79",
        "colab_type": "code",
        "colab": {}
      },
      "cell_type": "code",
      "source": [
        "plt.figure(figsize = (16, 10))\n",
        "displayed_lr = LinearRegression()\n",
        "displayed_lr.fit(y_test, y_pred)\n",
        "\n",
        "\n",
        "plt.errorbar((bins[:-1] + bins[1:]) / 2, val_bins, err_bins, np.diff(bins_width) / 2, fmt='o')\n",
        "plt.plot([0, 6], [displayed_lr.intercept_, displayed_lr.intercept_ + displayed_lr.coef_[0] * 6])\n",
        "plt.xlim(4.9, 6.1)\n",
        "plt.ylim(4.9, 6.1)\n",
        "plt.xlabel(\"True energy, GeV\",fontsize=22)\n",
        "plt.ylabel(\"Reco energy, GeV\", fontsize=22)\n",
        "plt.tick_params(labelsize=15)\n",
        "plt.grid(color='grey')"
      ],
      "execution_count": 0,
      "outputs": []
    },
    {
      "metadata": {
        "id": "ac9Q-oz2KU7_",
        "colab_type": "code",
        "colab": {}
      },
      "cell_type": "code",
      "source": [
        "from sklearn.metrics import mean_squared_error\n",
        "print(\"MSE:{}\".format(mean_squared_error(y_test, y_pred)))"
      ],
      "execution_count": 0,
      "outputs": []
    },
    {
      "metadata": {
        "id": "Bt0oOHV4KU8D",
        "colab_type": "text"
      },
      "cell_type": "markdown",
      "source": [
        "OK, MSE seems ok. Lets look at the distributions of the answers"
      ]
    },
    {
      "metadata": {
        "id": "yjpTdoJ0KU8E",
        "colab_type": "code",
        "colab": {}
      },
      "cell_type": "code",
      "source": [
        "plt.figure(figsize = (16,10))\n",
        "# Plot the histogram of the residuals. What do you observe?\n",
        "plt.hist(<YOUR CODE>);\n",
        "\n",
        "plt.xlabel(\"E_true - E_reco, GeV\", fontsize=23);\n",
        "plt.ylabel(\"a.u.\", fontsize=23);\n",
        "plt.grid(color='grey')"
      ],
      "execution_count": 0,
      "outputs": []
    },
    {
      "metadata": {
        "id": "gYxa_SWmKU8L",
        "colab_type": "text"
      },
      "cell_type": "markdown",
      "source": [
        "Why our distribution is skewed?"
      ]
    },
    {
      "metadata": {
        "id": "J5qpImXBKU8M",
        "colab_type": "text"
      },
      "cell_type": "markdown",
      "source": [
        "Ok, now, once we have plotted bias, we can check how well the alorithms performs in energy resolution - the main characterictics of any calorimiter.\n",
        "\n",
        "From the lecture, we know, that stochastic term of energy resolution is proportional to:\n",
        "$$\n",
        "\\sigma_{E} \\sim \\frac{1}{\\sqrt{E}}\n",
        "$$\n",
        "\n",
        "Lets validate this in practice."
      ]
    },
    {
      "metadata": {
        "id": "xRFKAAVfKU8N",
        "colab_type": "code",
        "colab": {}
      },
      "cell_type": "code",
      "source": [
        "from scipy.optimize import curve_fit\n",
        "\n",
        "\n",
        "# here we need to return exactly the curve we want to fit: in our case a + b * \\sqrt{1}(E)\n",
        "def s_root(x, a, b):\n",
        "    return <YOUR CODE>\n",
        "\n",
        "def get_resolution(y_pred, y_true, cut=20):\n",
        "    # Binning the data\n",
        "    bins_width = list(np.arange(5, 6, 0.1))\n",
        "    \n",
        "    data = <WHAT we want to plot on y axis> - energy resolution\n",
        "    x_bins = <WHAT we want to plot on x axis> - true energy\n",
        "\n",
        "    \n",
        "    resol_bins, bins, _ = binned_statistic(x_bins, data, \"std\", bins=bins_width)\n",
        "    \n",
        "    # Ok, but how do we estimate error on stadard deviation?\n",
        "    # we will use bootstrap!\n",
        "    # Ok, now using lambda function, extract error on standard deviation\n",
        "    \n",
        "    resol_error, bins, _ = binned_statistic(x_bins, data, <YOUR CODE>)\n",
        "\n",
        "    pw, cov = curve_fit(s_root, ((bins[:-1] + bins[1:]) / 2), resol_bins)\n",
        "    return bins, bins_width, resol_bins, resol_error, pw"
      ],
      "execution_count": 0,
      "outputs": []
    },
    {
      "metadata": {
        "id": "cI8y6IU7KU8S",
        "colab_type": "code",
        "colab": {}
      },
      "cell_type": "code",
      "source": [
        "# With cut\n",
        "bins, bins_width, resol_bins, resol_error, pw = get_resolution(lr.predict(X_test.reshape(-1,1)),\n",
        "              y_test, cut=0.5)"
      ],
      "execution_count": 0,
      "outputs": []
    },
    {
      "metadata": {
        "id": "pVrsCIHiKU8V",
        "colab_type": "code",
        "colab": {}
      },
      "cell_type": "code",
      "source": [
        "plt.figure(figsize = (16,10))\n",
        "\n",
        "plt.errorbar((bins[:-1] + bins[1:]) / 2, resol_bins, resol_error, np.diff(bins_width) / 2, fmt='o',\n",
        "             label='simulation data')\n",
        "plt.plot(bins, s_root(bins_width, *pw), label='1 / $\\sqrt{E}$ fit')\n",
        "\n",
        "\n",
        "plt.ylabel(\"Energy resolution\",fontsize=22)\n",
        "plt.xlabel(\"Energy, GeV\", fontsize=22)\n",
        "plt.tick_params(labelsize=15)\n",
        "plt.legend()\n",
        "plt.grid(color='grey')"
      ],
      "execution_count": 0,
      "outputs": []
    },
    {
      "metadata": {
        "id": "WQ7Zp_jqKU8X",
        "colab_type": "text"
      },
      "cell_type": "markdown",
      "source": [
        "# Energy resolution and shower leakage"
      ]
    },
    {
      "metadata": {
        "id": "EppkHj4JKU8Y",
        "colab_type": "text"
      },
      "cell_type": "markdown",
      "source": [
        "Ok, remember the graph for the number of tracks versus X0? In reality, you can not build calorimeter as big as you want, since you always have geometrical constraints. Thus, in the final part, lets plot the energy resolution as a function of the size of calorimiter in X0."
      ]
    },
    {
      "metadata": {
        "id": "yENqdQkSKU8Y",
        "colab_type": "code",
        "colab": {}
      },
      "cell_type": "code",
      "source": [
        "# Fill the n_hits matrix with will have shape (num_showers, N_FILMS)\n",
        "# it will contain number of track for each shower in layer X\n",
        "\n",
        "n_hits = np.zeros((num_showers, N_FILMS))\n",
        "counter = tt_df_ravel.groupby(<YOUR CODE>).<YOUR CODE>\n",
        "for index in range(num_showers):\n",
        "    plate_index = <YOUR CODE>\n",
        "    counts = <YOUR CODE>\n",
        "    n_hits[index, plate_index - 1] = counts"
      ],
      "execution_count": 0,
      "outputs": []
    },
    {
      "metadata": {
        "id": "IU0TjJ3YKU8a",
        "colab_type": "code",
        "colab": {}
      },
      "cell_type": "code",
      "source": [
        "x_ticks = [int(rad_length_in_n_plates * i) for i in range(1, rad_length_step + 1)]\n",
        "labels = [str(i) for i in range(1, rad_length_step + 1)]\n",
        "\n",
        "# Now we want to calculate cumulative sum - number of tracks in each shower UP TO layer X\n",
        "stats_by_rad_length = <YOUR CODE>"
      ],
      "execution_count": 0,
      "outputs": []
    },
    {
      "metadata": {
        "id": "zX4rKvdbKU8j",
        "colab_type": "text"
      },
      "cell_type": "markdown",
      "source": [
        "`resolution_results` is matrix of shape (num_showers, len_of_X0_range)"
      ]
    },
    {
      "metadata": {
        "id": "2vlWV1t2KU8k",
        "colab_type": "code",
        "colab": {}
      },
      "cell_type": "code",
      "source": [
        "# here we repeat the fitting and prediction for each of the X0 cut\n",
        "resolution_results = []\n",
        "cut = None\n",
        "for index in range(30):\n",
        "    X_train, X_test, y_train, y_test = train_test_split(stats_by_rad_length[:, index], MC_df.values,\n",
        "                                                        test_size=0.1, random_state=1543)\n",
        "    lr = LinearRegression()\n",
        "    lr.fit(X_train.reshape(-1,1), y_train)\n",
        "    y_pred = lr.predict(X_test.reshape(-1,1))[:,0]\n",
        "    \n",
        "    data = ((y_pred.reshape(-1,1) - y_test) / y_test)[:,0]\n",
        "    if cut is not None:\n",
        "        data = data[np.abs(data) < cut]\n",
        "    resolution_results.append(np.std(data))"
      ],
      "execution_count": 0,
      "outputs": []
    },
    {
      "metadata": {
        "id": "wfN5jAwrKU8n",
        "colab_type": "code",
        "colab": {}
      },
      "cell_type": "code",
      "source": [
        "plt.figure(figsize = (16,10))\n",
        "plt.scatter(range(1, 31), resolution_results)\n",
        "\n",
        "plt.ylabel(\"Energy resolution\",fontsize=22)\n",
        "plt.xlabel(\"Distance from the origin, X0\", fontsize=23)\n",
        "plt.tick_params(labelsize=15)\n",
        "plt.grid(color='grey')"
      ],
      "execution_count": 0,
      "outputs": []
    },
    {
      "metadata": {
        "id": "gAdqjwjLKU8r",
        "colab_type": "code",
        "colab": {}
      },
      "cell_type": "code",
      "source": [
        "plt.figure(figsize=(18,12))\n",
        "for index, x_0 in enumerate([0, 5, 10, 15, 20, 29]):\n",
        "    plt.subplot(2,3,index+1)\n",
        "    X_train, X_test, y_train, y_test = train_test_split(stats_by_rad_length[:, x_0], MC_df.values,\n",
        "                                                    test_size=0.1, random_state=1543)\n",
        "    lr.fit(X_train.reshape(-1,1), y_train)\n",
        "    y_pred = lr.predict(X_test.reshape(-1,1))[:,0]\n",
        "    plt.hist(y_test, alpha=0.5, label='y_true', bins=30)\n",
        "    plt.hist(y_pred, alpha=0.8, label='y_pred', bins=30)\n",
        "    plt.legend()\n",
        "    plt.title(\"Length: {} X0\".format(x_0))\n",
        "    plt.xlabel(\"Energy, GeV\")"
      ],
      "execution_count": 0,
      "outputs": []
    }
  ]
}
